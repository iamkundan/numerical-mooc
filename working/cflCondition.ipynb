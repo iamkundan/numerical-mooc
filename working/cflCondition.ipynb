{
 "cells": [
  {
   "cell_type": "markdown",
   "metadata": {},
   "source": [
    "solving linear advection equation with CFL no equal to 1"
   ]
  },
  {
   "cell_type": "code",
   "execution_count": 1,
   "metadata": {},
   "outputs": [],
   "source": [
    "import numpy as np\n",
    "\n",
    "def linear_convection_cfl(nx, L=2.0, c=1.0, sigma=0.5, nt=20): \n",
    "    #sigma=CFL, nx= grid points, L=domain (no. of space steps)\n",
    "    #c=convection speed, dt=teme-step size, nt=no. of time steps to compute\n",
    "    \n",
    "    d=L/(nx-1)\n",
    "    x=np.linspace(0.0, L, num=nx)\n",
    "    dt=sigma*dx/c\n",
    "    u0=np.ones(nx)\n",
    "    mask=np.where(np.logical_and(x>=0.5,x<=1.0))\n",
    "    u0[mask]=2.0\n",
    "    u=u0.copy()    \n",
    "    for in in range(1,nt): # in range of number of time steps\n",
    "        "
   ]
  },
  {
   "cell_type": "code",
   "execution_count": null,
   "metadata": {},
   "outputs": [],
   "source": []
  }
 ],
 "metadata": {
  "kernelspec": {
   "display_name": "Python 3",
   "language": "python",
   "name": "python3"
  },
  "language_info": {
   "codemirror_mode": {
    "name": "ipython",
    "version": 3
   },
   "file_extension": ".py",
   "mimetype": "text/x-python",
   "name": "python",
   "nbconvert_exporter": "python",
   "pygments_lexer": "ipython3",
   "version": "3.6.10"
  }
 },
 "nbformat": 4,
 "nbformat_minor": 4
}
